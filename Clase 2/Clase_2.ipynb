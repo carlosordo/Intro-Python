{
 "cells": [
  {
   "cell_type": "code",
   "execution_count": 1,
   "id": "b275541a",
   "metadata": {},
   "outputs": [],
   "source": [
    "import pandas as pd\n",
    "import numpy as np"
   ]
  },
  {
   "cell_type": "code",
   "execution_count": 2,
   "id": "8a447c9c",
   "metadata": {},
   "outputs": [],
   "source": [
    "### Lectura De archivo\n",
    "df = pd.read_csv(\"archivos/Super_Store_data.csv\")"
   ]
  },
  {
   "cell_type": "code",
   "execution_count": 4,
   "id": "9434cf05",
   "metadata": {},
   "outputs": [
    {
     "data": {
      "text/plain": [
       "Row ID             int64\n",
       "Order ID          object\n",
       "Order Date        object\n",
       "Ship Date         object\n",
       "Ship Mode         object\n",
       "Customer ID       object\n",
       "Customer Name     object\n",
       "Segment           object\n",
       "Country           object\n",
       "City              object\n",
       "State             object\n",
       "Postal Code        int64\n",
       "Region            object\n",
       "Product ID        object\n",
       "Category          object\n",
       "Sub-Category      object\n",
       "Product Name      object\n",
       "Sales            float64\n",
       "Quantity           int64\n",
       "Discount         float64\n",
       "Profit           float64\n",
       "Coordinates       object\n",
       "dtype: object"
      ]
     },
     "execution_count": 4,
     "metadata": {},
     "output_type": "execute_result"
    }
   ],
   "source": [
    "df.dtypes"
   ]
  },
  {
   "cell_type": "markdown",
   "id": "2042e5a9",
   "metadata": {},
   "source": [
    "### tipos de variable \n",
    "- Enteros (int) \n",
    "- Decimal (float)\n",
    "- Texto (objetct,str)\n",
    "- Fecha (datetime)\n",
    "- Categorico (category)"
   ]
  },
  {
   "cell_type": "code",
   "execution_count": null,
   "id": "7e6a6990",
   "metadata": {},
   "outputs": [],
   "source": [
    "### Modificar las fechas\n",
    "df['Order Date'] = pd.to_datetime(df['Order Date'])\n",
    "df = pd.read_csv(\"archivos/Super_Store_data.csv\",\n",
    "                 parse_dates=['Order Date','Ship Date'])"
   ]
  },
  {
   "cell_type": "code",
   "execution_count": null,
   "id": "b8b99180",
   "metadata": {},
   "outputs": [],
   "source": [
    "df['Region']=df['Region'].astype('category')\n",
    "### Lo mismo para 'Sub-Category'"
   ]
  },
  {
   "cell_type": "code",
   "execution_count": null,
   "id": "2ef7990a",
   "metadata": {},
   "outputs": [],
   "source": [
    "df = df[df[\"Coordinates\"].str.contains(\",\")]"
   ]
  },
  {
   "cell_type": "code",
   "execution_count": null,
   "id": "9c5ce6f7",
   "metadata": {},
   "outputs": [],
   "source": [
    "df[\"Coordinates\"] =df[\"\"].str.replace(\"(\",\"\",regex=False).str.replace(\")\",\"\",regex=False)\n",
    "df[['lat', 'long']]=df[\"\"].str.split(\",\",expand=True)\n",
    "df.drop(columns=[\"\"],inplace=True)"
   ]
  },
  {
   "cell_type": "code",
   "execution_count": null,
   "id": "1190be1f",
   "metadata": {},
   "outputs": [],
   "source": [
    "df[\"price\"]= df[\"Sales\"]/df[\"Quantity\"]"
   ]
  },
  {
   "cell_type": "code",
   "execution_count": null,
   "id": "691494f1",
   "metadata": {},
   "outputs": [],
   "source": [
    "### Metodologia basica para imputar los vacios\n",
    "df['sales'].fillna(0)\n",
    "#df['Sales'].fillna(df['Sales'].mean())"
   ]
  },
  {
   "cell_type": "code",
   "execution_count": null,
   "id": "6b2055c1",
   "metadata": {},
   "outputs": [],
   "source": [
    "prom = df.loc[df[\"Sales\"].isnull()].groupby([\"Product ID\"])[\"price\"].agg([\"mean\"]).reset_index()\n",
    "sales_w=df.loc[df[\"Sales\"].isnull()]\n",
    "df=df.loc[~df[\"Sales\"].isnull()]\n",
    "sales_w=sales_w.merge(prom, how=\"left\",on=\"Product ID\")\n",
    "sales_w[\"Sales\"]=sales_w[\"Quantity\"]*sales_w[\"mean\"]\n",
    "sales_w=sales_w.loc[:,df.columns]\n",
    "df = pd.concat([df,sales_w])"
   ]
  },
  {
   "cell_type": "code",
   "execution_count": null,
   "id": "785787d7",
   "metadata": {},
   "outputs": [],
   "source": [
    "# retirar profits negativos\n",
    "df = df.loc[df[\"Profit\"]>0]"
   ]
  },
  {
   "cell_type": "code",
   "execution_count": null,
   "id": "431a94c9",
   "metadata": {},
   "outputs": [],
   "source": [
    "df = df.loc[~(df[\"Profit\"]>df[\"Sales\"])]"
   ]
  },
  {
   "cell_type": "code",
   "execution_count": null,
   "id": "06e080b8",
   "metadata": {},
   "outputs": [],
   "source": [
    "#valores atipicos\n",
    "def valor_atipico(df,x):\n",
    "    q3=df[x].quantile(0.75)\n",
    "    q1=df[x].quantile(0.25)\n",
    "    iqr=q3-q1\n",
    "    print (\"Cantidad de valores atipicos de la columna \"+x+\": \",df.loc[(df[x]>q3+1.5*iqr)|(df[x]<q1-1.5*iqr)].shape[0])\n",
    "    df_nuevo = df.loc[(df[x]<=q3+1.5*iqr)&(df[x]>=q1-1.5*iqr)]\n",
    "    return df_nuevo"
   ]
  },
  {
   "cell_type": "code",
   "execution_count": null,
   "id": "719cb67f",
   "metadata": {},
   "outputs": [],
   "source": [
    "df_nuevo= valor_atipico(df,\"Sales\")"
   ]
  },
  {
   "cell_type": "code",
   "execution_count": null,
   "id": "17ba1ad0",
   "metadata": {},
   "outputs": [],
   "source": [
    "df_nuevo[\"lat\"] = df_nuevo[\"lat\"].astype(float)\n",
    "df_nuevo[\"long\"] = df_nuevo[\"long\"].astype(float)\n",
    "df_nuevo.drop(columns=[\"price\"],inplace=True)\n"
   ]
  },
  {
   "cell_type": "code",
   "execution_count": null,
   "id": "e809e126",
   "metadata": {},
   "outputs": [
    {
     "data": {
      "text/plain": [
       "Row ID           0\n",
       "Order ID         0\n",
       "Order Date       0\n",
       "Ship Date        0\n",
       "Ship Mode        0\n",
       "Customer ID      0\n",
       "Customer Name    0\n",
       "Segment          0\n",
       "Country          0\n",
       "City             0\n",
       "State            0\n",
       "Postal Code      0\n",
       "Region           0\n",
       "Product ID       0\n",
       "Category         0\n",
       "Sub-Category     0\n",
       "Product Name     0\n",
       "Sales            0\n",
       "Quantity         0\n",
       "Discount         0\n",
       "Profit           0\n",
       "Coordinates      0\n",
       "dtype: int64"
      ]
     },
     "execution_count": 9,
     "metadata": {},
     "output_type": "execute_result"
    }
   ],
   "source": [
    "df_nuevo.isnull().sum()"
   ]
  },
  {
   "cell_type": "code",
   "execution_count": null,
   "id": "7ccab73a",
   "metadata": {},
   "outputs": [],
   "source": [
    "df_nuevo.to_csv(\"archivos/clean_data.csv\")"
   ]
  },
  {
   "cell_type": "markdown",
   "id": "c27e7766",
   "metadata": {},
   "source": [
    "### Prueba adicional\n",
    "Hay forma de ver si hay una novedad con las fechas de entrega y del pedido"
   ]
  }
 ],
 "metadata": {
  "kernelspec": {
   "display_name": "Python 3",
   "language": "python",
   "name": "python3"
  },
  "language_info": {
   "codemirror_mode": {
    "name": "ipython",
    "version": 3
   },
   "file_extension": ".py",
   "mimetype": "text/x-python",
   "name": "python",
   "nbconvert_exporter": "python",
   "pygments_lexer": "ipython3",
   "version": "3.11.9"
  }
 },
 "nbformat": 4,
 "nbformat_minor": 5
}
