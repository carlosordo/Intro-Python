{
 "cells": [
  {
   "cell_type": "code",
   "execution_count": null,
   "id": "d1b89449",
   "metadata": {},
   "outputs": [],
   "source": [
    "import pandas as pd\n",
    "import numpy as np"
   ]
  },
  {
   "cell_type": "code",
   "execution_count": null,
   "id": "723f312c",
   "metadata": {},
   "outputs": [],
   "source": [
    "df = pd.read_csv('archivos/spotify_top_1000_tracks.csv')"
   ]
  },
  {
   "cell_type": "code",
   "execution_count": null,
   "id": "96520a58",
   "metadata": {},
   "outputs": [],
   "source": [
    "df['release_date'] = pd.to_datetime(df['release_date'],format='mixed')\n",
    "df"
   ]
  },
  {
   "cell_type": "markdown",
   "id": "97401236",
   "metadata": {},
   "source": [
    "### Top 5 Artistas mas populares"
   ]
  },
  {
   "cell_type": "code",
   "execution_count": null,
   "id": "125b1869",
   "metadata": {},
   "outputs": [],
   "source": [
    "df.groupby('artist')['popularity'].mean().reset_index().sort_values(by='popularity',ascending=False).head(5)"
   ]
  },
  {
   "cell_type": "markdown",
   "id": "aa4a0d71",
   "metadata": {},
   "source": [
    "### Progreso en la popularidad de los Artistas por año"
   ]
  },
  {
   "cell_type": "code",
   "execution_count": null,
   "id": "07ffcb8b",
   "metadata": {},
   "outputs": [],
   "source": [
    "df['Year'] = df['release_date'].dt.year\n",
    "df['Year'].describe()"
   ]
  },
  {
   "cell_type": "code",
   "execution_count": null,
   "id": "7b2a6ad7",
   "metadata": {},
   "outputs": [],
   "source": [
    "popularidad_y = df[df['Year']>=2018].groupby(['artist','Year'])['popularity'].mean().reset_index().sort_values(by='popularity',ascending=False)"
   ]
  },
  {
   "cell_type": "code",
   "execution_count": null,
   "id": "d5bb12b1",
   "metadata": {},
   "outputs": [],
   "source": [
    "popularidad_y"
   ]
  },
  {
   "cell_type": "code",
   "execution_count": null,
   "id": "3cb77d2f",
   "metadata": {},
   "outputs": [],
   "source": [
    "pop_ = pd.pivot_table(popularidad_y,index='artist',columns='Year',values='popularity',aggfunc='sum').reset_index()\n",
    "pd.pivot(popularidad_y,index='artist',columns='Year').reset_index().fillna(0)"
   ]
  },
  {
   "cell_type": "markdown",
   "id": "fb333641",
   "metadata": {},
   "source": [
    "### Top 5 Artistas de los ultimos años"
   ]
  },
  {
   "cell_type": "code",
   "execution_count": null,
   "id": "39388dae",
   "metadata": {},
   "outputs": [],
   "source": [
    "anios = popularidad_y['Year'].unique().tolist()\n",
    "anios = sorted(anios)"
   ]
  },
  {
   "cell_type": "code",
   "execution_count": null,
   "id": "80d73975",
   "metadata": {},
   "outputs": [],
   "source": [
    "anios"
   ]
  },
  {
   "cell_type": "code",
   "execution_count": null,
   "id": "a747c3cc",
   "metadata": {},
   "outputs": [],
   "source": [
    "diccionario = {}\n",
    "for year in anios:\n",
    "    temp = popularidad_y[popularidad_y['Year']==year]\n",
    "    diccionario[year] = temp.head(5)['artist'].reset_index(drop = True)"
   ]
  },
  {
   "cell_type": "code",
   "execution_count": null,
   "id": "c906709b",
   "metadata": {},
   "outputs": [],
   "source": [
    "diccionario.keys()"
   ]
  },
  {
   "cell_type": "code",
   "execution_count": null,
   "id": "2787bca6",
   "metadata": {},
   "outputs": [],
   "source": [
    "top_5 = pd.concat(diccionario.values(),axis=1)"
   ]
  },
  {
   "cell_type": "code",
   "execution_count": null,
   "id": "7f7ea54b",
   "metadata": {},
   "outputs": [],
   "source": [
    "top_5.columns = diccionario.keys()"
   ]
  },
  {
   "cell_type": "code",
   "execution_count": null,
   "id": "2a5f2a42",
   "metadata": {},
   "outputs": [],
   "source": [
    "top_5"
   ]
  },
  {
   "cell_type": "markdown",
   "id": "e1f193d5",
   "metadata": {},
   "source": [
    "### Historial de popularidad"
   ]
  },
  {
   "cell_type": "code",
   "execution_count": null,
   "id": "5e8e6a04",
   "metadata": {},
   "outputs": [],
   "source": [
    "pop_"
   ]
  },
  {
   "cell_type": "code",
   "execution_count": null,
   "id": "dec7bdfb",
   "metadata": {},
   "outputs": [],
   "source": [
    "pop_.melt(id_vars='artist').dropna()"
   ]
  },
  {
   "cell_type": "code",
   "execution_count": null,
   "id": "e536cd92",
   "metadata": {},
   "outputs": [],
   "source": [
    "df_2 = pd.read_csv('archivos/light_spotify_dataset.csv')\n",
    "df_2"
   ]
  },
  {
   "cell_type": "code",
   "execution_count": null,
   "id": "ee689e77",
   "metadata": {},
   "outputs": [],
   "source": [
    "df_2 = df_2[~df_2['Genre'].str.contains(\",\")]"
   ]
  },
  {
   "cell_type": "code",
   "execution_count": null,
   "id": "e82bd930",
   "metadata": {},
   "outputs": [],
   "source": [
    "explicit = pd.pivot_table(df_2.groupby(['Genre','Explicit']).size().reset_index(),index='Genre',columns='Explicit',values=0,aggfunc='sum',fill_value=0).reset_index()"
   ]
  },
  {
   "cell_type": "code",
   "execution_count": null,
   "id": "9f8715cd",
   "metadata": {},
   "outputs": [],
   "source": [
    "explicit['Explicit %'] = explicit['Yes']/(explicit['No']+explicit['Yes'])\n",
    "explicit.sort_values(by='Explicit %',ascending=False)"
   ]
  },
  {
   "cell_type": "code",
   "execution_count": null,
   "id": "dd49beb6",
   "metadata": {},
   "outputs": [],
   "source": [
    "###Segunda Base\n",
    "df_2"
   ]
  },
  {
   "cell_type": "code",
   "execution_count": null,
   "id": "ed357809",
   "metadata": {},
   "outputs": [],
   "source": [
    "df_2['Energy'].describe()"
   ]
  },
  {
   "cell_type": "code",
   "execution_count": null,
   "id": "32450806",
   "metadata": {},
   "outputs": [],
   "source": [
    "pd.qcut(df_2['Energy'],q = 4)"
   ]
  },
  {
   "cell_type": "code",
   "execution_count": null,
   "id": "31c20839",
   "metadata": {},
   "outputs": [],
   "source": [
    "bins = [0,25,50,75,100]\n",
    "Nombres = ['Muy Baja','Baja','Alta','Muy Alta']\n",
    "df_2['Class Energy'] = pd.cut(df_2['Energy'],bins=bins, labels=Nombres)\n",
    "df_2['Class Energy'] "
   ]
  },
  {
   "cell_type": "code",
   "execution_count": null,
   "id": "0c3ef3f2",
   "metadata": {},
   "outputs": [],
   "source": [
    "temp = df_2.groupby(['Genre','Class Energy']).size().reset_index(name='Cantidad')\n",
    "temp"
   ]
  },
  {
   "cell_type": "code",
   "execution_count": null,
   "id": "6b5abe0c",
   "metadata": {},
   "outputs": [],
   "source": [
    "pd.pivot_table(temp,index='Genre',columns='Class Energy',values='Cantidad',aggfunc='sum').reset_index()"
   ]
  }
 ],
 "metadata": {
  "kernelspec": {
   "display_name": "Python 3",
   "language": "python",
   "name": "python3"
  },
  "language_info": {
   "codemirror_mode": {
    "name": "ipython",
    "version": 3
   },
   "file_extension": ".py",
   "mimetype": "text/x-python",
   "name": "python",
   "nbconvert_exporter": "python",
   "pygments_lexer": "ipython3",
   "version": "3.12.7"
  }
 },
 "nbformat": 4,
 "nbformat_minor": 5
}
